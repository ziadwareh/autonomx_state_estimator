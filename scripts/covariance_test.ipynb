{
 "cells": [
  {
   "cell_type": "code",
   "execution_count": 4,
   "metadata": {},
   "outputs": [],
   "source": [
    "import numpy as np"
   ]
  },
  {
   "cell_type": "code",
   "execution_count": 17,
   "metadata": {},
   "outputs": [
    {
     "data": {
      "text/plain": [
       "array([[15. , 12.5, 50. ],\n",
       "       [35. , 15.8, 55. ],\n",
       "       [20. ,  9.3, 70. ],\n",
       "       [14. , 20.1, 65. ],\n",
       "       [28. ,  5.2, 80. ]])"
      ]
     },
     "execution_count": 17,
     "metadata": {},
     "output_type": "execute_result"
    }
   ],
   "source": [
    "# Example obtained from this link: https://www.cuemath.com/algebra/covariance-matrix/\n",
    "x_data = np.array([15,35,20,14,28])\n",
    "y_data = np.array([12.5,15.8,9.3,20.1,5.2])\n",
    "z_data = np.array([50,55,70,65,80])\n",
    "data = np.column_stack((x_data,y_data,z_data))\n",
    "data"
   ]
  },
  {
   "cell_type": "code",
   "execution_count": 18,
   "metadata": {},
   "outputs": [
    {
     "data": {
      "text/plain": [
       "array([[ 80.3  , -13.865,  14.25 ],\n",
       "       [-13.865,  33.037, -39.525],\n",
       "       [ 14.25 , -39.525, 142.5  ]])"
      ]
     },
     "execution_count": 18,
     "metadata": {},
     "output_type": "execute_result"
    }
   ],
   "source": [
    "data_centered = data - np.mean(data)\n",
    "cov_matrix = np.cov(data_centered,rowvar=False)\n",
    "cov_matrix"
   ]
  }
 ],
 "metadata": {
  "kernelspec": {
   "display_name": "Python 3",
   "language": "python",
   "name": "python3"
  },
  "language_info": {
   "codemirror_mode": {
    "name": "ipython",
    "version": 3
   },
   "file_extension": ".py",
   "mimetype": "text/x-python",
   "name": "python",
   "nbconvert_exporter": "python",
   "pygments_lexer": "ipython3",
   "version": "3.8.10"
  }
 },
 "nbformat": 4,
 "nbformat_minor": 2
}
